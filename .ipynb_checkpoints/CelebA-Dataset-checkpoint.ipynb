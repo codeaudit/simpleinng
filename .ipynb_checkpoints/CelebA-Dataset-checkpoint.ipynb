{
 "cells": [
  {
   "cell_type": "code",
   "execution_count": null,
   "metadata": {
    "ExecuteTime": {
     "end_time": "2017-08-30T23:17:28.111541Z",
     "start_time": "2017-08-30T23:17:27.758188Z"
    },
    "collapsed": true
   },
   "outputs": [],
   "source": [
    "import os\n",
    "import scipy.misc\n",
    "import numpy as np\n",
    "import matplotlib.pyplot as plt"
   ]
  },
  {
   "cell_type": "code",
   "execution_count": null,
   "metadata": {
    "ExecuteTime": {
     "end_time": "2017-08-30T23:17:28.116761Z",
     "start_time": "2017-08-30T23:17:28.113202Z"
    },
    "collapsed": true
   },
   "outputs": [],
   "source": [
    "def mkdir_if_not_exists(path):\n",
    "    '''\n",
    "    Create directory if it does not exist.\n",
    "        path:           Path of directory.\n",
    "    '''\n",
    "    if not os.path.exists(path):\n",
    "        os.mkdir(path)"
   ]
  },
  {
   "cell_type": "code",
   "execution_count": null,
   "metadata": {
    "ExecuteTime": {
     "end_time": "2017-08-30T23:17:28.136879Z",
     "start_time": "2017-08-30T23:17:28.118399Z"
    },
    "collapsed": true
   },
   "outputs": [],
   "source": [
    "def get_images_name_in_directory(path):\n",
    "    '''\n",
    "    Get file name of all images recursively in directory filtered by extension list.\n",
    "        path: Path of directory contains images.\n",
    "    Return file name of images in selected directory.\n",
    "    '''\n",
    "    images_name_in_directory = []\n",
    "    image_extensions = ['.png', '.jpg']\n",
    "    \n",
    "    for root_path, directory_names, file_names in os.walk(path):\n",
    "        for file_name in file_names:\n",
    "            lower_file_name = file_name.lower()\n",
    "            if any(map(lambda image_extension: \n",
    "                       lower_file_name.endswith(image_extension), \n",
    "                       image_extensions)):\n",
    "                images_name_in_directory.append(file_name)\n",
    "\n",
    "    return images_name_in_directory"
   ]
  },
  {
   "cell_type": "code",
   "execution_count": null,
   "metadata": {
    "ExecuteTime": {
     "end_time": "2017-08-30T23:17:28.146504Z",
     "start_time": "2017-08-30T23:17:28.138379Z"
    },
    "collapsed": true
   },
   "outputs": [],
   "source": [
    "def load_unnormalized_image(path):\n",
    "    '''\n",
    "    Load a RGB image and do not normalize. Each intensity value is from \n",
    "    0 to 255 and then it is converted into 32-bit float.\n",
    "        path: Path of image file.\n",
    "    Return image array.\n",
    "    '''\n",
    "    return scipy.misc.imread(path, mode = 'RGB').astype(np.float32)"
   ]
  },
  {
   "cell_type": "code",
   "execution_count": null,
   "metadata": {
    "ExecuteTime": {
     "end_time": "2017-08-30T23:17:28.155987Z",
     "start_time": "2017-08-30T23:17:28.147988Z"
    },
    "collapsed": true
   },
   "outputs": [],
   "source": [
    "def save_unnormalized_image(image, path):\n",
    "    '''\n",
    "    Merge multiple unnormalized images into one and save it.\n",
    "        image:  Unnormalized image array. The intensity values range\n",
    "                from 0 to 255. Format: [height, width, channels]\n",
    "        path:   Path of image.\n",
    "    '''\n",
    "    # Attention: Here we should not use the following way to save image.\n",
    "    #     scipy.misc.imsave(path, image)\n",
    "    # Because it automatically scale the intensity value in merged_image\n",
    "    # from [min(image), max(image)] to [0, 255]. It should be\n",
    "    # the reason behind the issue reported by Kwonjoon Lee, which states \n",
    "    # the intensity value in demo in ICL/IGM paper is much near 0 or 255.\n",
    "    scipy.misc.toimage(arr = image, cmin = 0, cmax = 255).save(path)"
   ]
  },
  {
   "cell_type": "code",
   "execution_count": null,
   "metadata": {
    "ExecuteTime": {
     "end_time": "2017-08-30T23:17:28.173218Z",
     "start_time": "2017-08-30T23:17:28.157383Z"
    },
    "collapsed": true
   },
   "outputs": [],
   "source": [
    "def center_crop(image, cropped_height, cropped_width):\n",
    "    '''\n",
    "    Crop the center part of image.\n",
    "        image:          Unnormalized image array. The intensity values range\n",
    "                        from 0 to 255. Format: [height, width, channels]\n",
    "        cropped_height: Height of cropped part.\n",
    "        cropped_width:  Width of cropped part.\n",
    "    Return array of cropped part.\n",
    "    '''\n",
    "    image_height, image_width = image.shape[:2]\n",
    "    \n",
    "    cropped_in_image_height = int(round((image_height - cropped_height) / 2.))\n",
    "    cropped_in_image_width = int(round((image_width - cropped_width) / 2.))\n",
    "    \n",
    "    cropped = image[cropped_in_image_height : cropped_in_image_height + cropped_height, \n",
    "                    cropped_in_image_width : cropped_in_image_width + cropped_width]\n",
    "    \n",
    "    return cropped"
   ]
  },
  {
   "cell_type": "code",
   "execution_count": null,
   "metadata": {
    "ExecuteTime": {
     "end_time": "2017-08-30T23:17:28.182627Z",
     "start_time": "2017-08-30T23:17:28.174579Z"
    },
    "collapsed": true
   },
   "outputs": [],
   "source": [
    "def resize(image, resized_height, resized_width):\n",
    "    '''\n",
    "    Resize the image.\n",
    "        image:          Image array.\n",
    "        resized_height: Height of resized part.\n",
    "        resized_width:  Width of resized part.\n",
    "    Return array of resized part.\n",
    "    '''\n",
    "    return scipy.misc.imresize(image, [resized_height, resized_width])"
   ]
  },
  {
   "cell_type": "code",
   "execution_count": null,
   "metadata": {
    "ExecuteTime": {
     "end_time": "2017-08-30T23:17:28.194777Z",
     "start_time": "2017-08-30T23:17:28.183977Z"
    },
    "collapsed": true
   },
   "outputs": [],
   "source": [
    "# Create directories.\n",
    "mkdir_if_not_exists('./dataset')\n",
    "mkdir_if_not_exists('./dataset/celeba')"
   ]
  },
  {
   "cell_type": "code",
   "execution_count": null,
   "metadata": {
    "ExecuteTime": {
     "end_time": "2017-08-30T23:17:54.270297Z",
     "start_time": "2017-08-30T23:17:28.196278Z"
    }
   },
   "outputs": [],
   "source": [
    "# Download CelebA dataset.\n",
    "!wget -P ./dataset/celeba https://cseweb.ucsd.edu/~weijian/static/celeba/img_align_celeba.zip"
   ]
  },
  {
   "cell_type": "code",
   "execution_count": null,
   "metadata": {
    "ExecuteTime": {
     "end_time": "2017-08-30T23:26:20.009584Z",
     "start_time": "2017-08-30T23:17:54.273653Z"
    },
    "collapsed": true
   },
   "outputs": [],
   "source": [
    "# Extract images.\n",
    "!unzip -q ./dataset/celeba/img_align_celeba.zip -d ./dataset/celeba\n",
    "!mv ./dataset/celeba/img_align_celeba ./dataset/celeba/original"
   ]
  },
  {
   "cell_type": "code",
   "execution_count": null,
   "metadata": {
    "ExecuteTime": {
     "end_time": "2017-08-30T23:33:34.778413Z",
     "start_time": "2017-08-30T23:26:20.012780Z"
    }
   },
   "outputs": [],
   "source": [
    "# Crop and resize images.\n",
    "mkdir_if_not_exists('./dataset/celeba/cropped')\n",
    "original_images_name = get_images_name_in_directory('./dataset/celeba/original/')\n",
    "for (i, original_image_name) in enumerate(original_images_name):\n",
    "    original_image_path = os.path.join('./dataset/celeba/original', original_image_name)\n",
    "    original_image = load_unnormalized_image(original_image_path)\n",
    "    cropped_image = resize(center_crop(image = original_image, \n",
    "                                       cropped_height = 108, \n",
    "                                       cropped_width = 108),\n",
    "                           resized_height = 64,\n",
    "                           resized_width = 64)\n",
    "    cropped_image_path = os.path.join('./dataset/celeba/cropped', original_image_name)\n",
    "    save_unnormalized_image(cropped_image, cropped_image_path)\n",
    "    if i % 1000 == 0:\n",
    "        print(\"Cropping and resizing {} images...\".format(i))"
   ]
  }
 ],
 "metadata": {
  "kernelspec": {
   "display_name": "Python 2",
   "language": "python",
   "name": "python2"
  },
  "language_info": {
   "codemirror_mode": {
    "name": "ipython",
    "version": 2
   },
   "file_extension": ".py",
   "mimetype": "text/x-python",
   "name": "python",
   "nbconvert_exporter": "python",
   "pygments_lexer": "ipython2",
   "version": "2.7.13"
  },
  "toc": {
   "colors": {
    "hover_highlight": "#DAA520",
    "navigate_num": "#000000",
    "navigate_text": "#333333",
    "running_highlight": "#FF0000",
    "selected_highlight": "#FFD700",
    "sidebar_border": "#EEEEEE",
    "wrapper_background": "#FFFFFF"
   },
   "moveMenuLeft": true,
   "nav_menu": {
    "height": "4px",
    "width": "254px"
   },
   "navigate_menu": true,
   "number_sections": true,
   "sideBar": true,
   "threshold": 4,
   "toc_cell": false,
   "toc_section_display": "block",
   "toc_window_display": false,
   "widenNotebook": false
  }
 },
 "nbformat": 4,
 "nbformat_minor": 2
}
